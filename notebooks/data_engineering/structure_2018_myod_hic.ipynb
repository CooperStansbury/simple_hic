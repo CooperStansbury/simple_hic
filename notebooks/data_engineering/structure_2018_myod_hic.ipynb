{
 "cells": [
  {
   "cell_type": "code",
   "execution_count": 1,
   "id": "06ceb81d-f201-4553-97a6-56472eb957a5",
   "metadata": {},
   "outputs": [],
   "source": [
    "import os\n",
    "import sys\n",
    "import pandas as pd\n",
    "from subprocess import call"
   ]
  },
  {
   "cell_type": "code",
   "execution_count": 2,
   "id": "44e2224c-dcb3-4f59-b049-53d9075a283b",
   "metadata": {},
   "outputs": [
    {
     "data": {
      "text/plain": [
       "{'Sample_71531': 'T11',\n",
       " 'Sample_71530': 'T2',\n",
       " 'Sample_71529': 'T10',\n",
       " 'Sample_71537': 'T5',\n",
       " 'Sample_71536': 'T7',\n",
       " 'Sample_71538': 'T6',\n",
       " 'Sample_71535': 'T4',\n",
       " 'Sample_71534': 'T8',\n",
       " 'Sample_64585': 'T0',\n",
       " 'Sample_71532': 'T9',\n",
       " 'Sample_64584': 'T1',\n",
       " 'Sample_71533': 'T3'}"
      ]
     },
     "execution_count": 2,
     "metadata": {},
     "output_type": "execute_result"
    }
   ],
   "source": [
    "configPath = \"../../config/filelist.txt\"\n",
    "\n",
    "df = pd.read_csv(configPath)\n",
    "df.columns\n",
    "\n",
    "mapper = dict(zip(df['sample'], df['time']))\n",
    "mapper"
   ]
  },
  {
   "cell_type": "code",
   "execution_count": 9,
   "id": "c352f250-38c9-494f-b3ff-76b5ae3fd5c3",
   "metadata": {},
   "outputs": [
    {
     "name": "stdout",
     "output_type": "stream",
     "text": [
      "done: Sample_71534 : T8.R1\n",
      "done: Sample_71534 : T8.R2\n",
      "done: Sample_71532 : T9.R1\n",
      "done: Sample_71532 : T9.R2\n",
      "done: Sample_71530 : T2.R1\n",
      "done: Sample_71530 : T2.R2\n",
      "done: Sample_71536 : T7.R1\n",
      "done: Sample_71536 : T7.R2\n",
      "done: Sample_71537 : T5.R1\n",
      "done: Sample_71537 : T5.R2\n",
      "done: Sample_71531 : T11.R1\n",
      "done: Sample_71531 : T11.R2\n",
      "done: Sample_71533 : T3.R1\n",
      "done: Sample_71533 : T3.R2\n",
      "done: Sample_71535 : T4.R1\n",
      "done: Sample_71535 : T4.R2\n",
      "done: Sample_64584 : T1.R1\n",
      "done: Sample_64584 : T1.R2\n",
      "done: Sample_71529 : T10.R1\n",
      "done: Sample_71529 : T10.R2\n",
      "done: Sample_71538 : T6.R1\n",
      "done: Sample_71538 : T6.R2\n",
      "done: Sample_64585 : T0.R1\n",
      "done: Sample_64585 : T0.R2\n",
      "####### DONE\n"
     ]
    }
   ],
   "source": [
    "root_path = \"/nfs/turbo/umms-indikar/shared/projects/myod/data/raw_hic_fastq/reads/\"\n",
    "new_path = \"/nfs/turbo/umms-indikar/shared/projects/myod/data/clean_hic_fastq/\"\n",
    "\n",
    "for key in os.listdir(root_path):\n",
    "    \n",
    "    t = mapper[key]\n",
    "    fastq_dir = f\"{root_path}{key}/\"\n",
    "\n",
    "    for pend in ['R1', 'R2']:\n",
    "\n",
    "        input = f\"{fastq_dir}*{pend}*fastq.gz\"\n",
    "        output = f\"{new_path}{t}.{pend}.fastq.gz\"\n",
    "        \n",
    "        script = f\"cat {input} > {output}\"\n",
    "        call(script, shell=True)\n",
    "    \n",
    "        print(f'done: {key} : {t}.{pend}')\n",
    "        \n",
    "\n",
    "print(\"####### DONE\")"
   ]
  },
  {
   "cell_type": "code",
   "execution_count": null,
   "id": "0ba16fb6-c8ec-4d85-8f6f-95cf2ba786ac",
   "metadata": {},
   "outputs": [],
   "source": []
  }
 ],
 "metadata": {
  "kernelspec": {
   "display_name": "Python 3 (ipykernel)",
   "language": "python",
   "name": "python3"
  },
  "language_info": {
   "codemirror_mode": {
    "name": "ipython",
    "version": 3
   },
   "file_extension": ".py",
   "mimetype": "text/x-python",
   "name": "python",
   "nbconvert_exporter": "python",
   "pygments_lexer": "ipython3",
   "version": "3.9.7"
  }
 },
 "nbformat": 4,
 "nbformat_minor": 5
}
